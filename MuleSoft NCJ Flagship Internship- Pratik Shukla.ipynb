{
 "cells": [
  {
   "cell_type": "code",
   "execution_count": 12,
   "metadata": {},
   "outputs": [
    {
     "name": "stdout",
     "output_type": "stream",
     "text": [
      "Opened database successfully\n"
     ]
    }
   ],
   "source": [
    "# Importing Sqlite in python 3.0\n",
    "import sqlite3\n",
    "# Connection of sqlite with python and creating own database named movies\n",
    "conn = sqlite3.connect('movies.db')\n",
    "print (\"Opened database successfully\");"
   ]
  },
  {
   "cell_type": "code",
   "execution_count": 13,
   "metadata": {},
   "outputs": [
    {
     "ename": "OperationalError",
     "evalue": "table MOVIES already exists",
     "output_type": "error",
     "traceback": [
      "\u001b[1;31m---------------------------------------------------------------------------\u001b[0m",
      "\u001b[1;31mOperationalError\u001b[0m                          Traceback (most recent call last)",
      "\u001b[1;32m<ipython-input-13-31102aa74d39>\u001b[0m in \u001b[0;36m<module>\u001b[1;34m\u001b[0m\n\u001b[0;32m      1\u001b[0m \u001b[1;31m#create a table in the previously created database as movies\u001b[0m\u001b[1;33m\u001b[0m\u001b[1;33m\u001b[0m\u001b[1;33m\u001b[0m\u001b[0m\n\u001b[0;32m      2\u001b[0m \u001b[1;33m\u001b[0m\u001b[0m\n\u001b[1;32m----> 3\u001b[1;33m conn.execute('''CREATE TABLE MOVIES\n\u001b[0m\u001b[0;32m      4\u001b[0m          (NAME varchar(10) NOT NULL PRIMARY KEY,\n\u001b[0;32m      5\u001b[0m          \u001b[0mACTOR\u001b[0m \u001b[0mvarchar\u001b[0m\u001b[1;33m(\u001b[0m\u001b[1;36m30\u001b[0m\u001b[1;33m)\u001b[0m \u001b[0mNOT\u001b[0m \u001b[0mNULL\u001b[0m\u001b[1;33m,\u001b[0m\u001b[1;33m\u001b[0m\u001b[1;33m\u001b[0m\u001b[0m\n",
      "\u001b[1;31mOperationalError\u001b[0m: table MOVIES already exists"
     ]
    }
   ],
   "source": [
    "#create a table in the previously created database as movies\n",
    "\n",
    "conn.execute('''CREATE TABLE MOVIES\n",
    "         (NAME varchar(10) NOT NULL PRIMARY KEY,\n",
    "         ACTOR varchar(30) NOT NULL,\n",
    "         ACTRESS varchar(30),\n",
    "         DIRECTOR varchar(10) NOT NULL,\n",
    "         ReleaseDate DATE NOT NULL);''')\n",
    "print (\"Table created successfully\");\n",
    "\n",
    "conn.close()"
   ]
  },
  {
   "cell_type": "code",
   "execution_count": 14,
   "metadata": {},
   "outputs": [
    {
     "name": "stdout",
     "output_type": "stream",
     "text": [
      "Records created successfully\n"
     ]
    }
   ],
   "source": [
    "conn = sqlite3.connect('movies.db')\n",
    "print (\"Opened database successfully\");\n",
    "#Insert records in the MOVIES table created above\n",
    "\n",
    "conn.execute(\"INSERT INTO MOVIES (NAME,ACTOR,ACTRESS,DIRECTOR,ReleaseDate) \\\n",
    "      VALUES ('Gladiator', 'Russell Crowe', 'Oliver Reed', 'Ridley Scott', '2000' )\");\n",
    "\n",
    "conn.execute(\"INSERT INTO MOVIES (NAME,ACTOR,ACTRESS,DIRECTOR,ReleaseDate) \\\n",
    "      VALUES ('The Mummy', 'Tom Cruise', 'Annabelle Wallis', 'Alex Kurtzman', '2017' )\");\n",
    "\n",
    "conn.execute(\"INSERT INTO MOVIES (NAME,ACTOR,ACTRESS,DIRECTOR,ReleaseDate) \\\n",
    "      VALUES ('3 Idiots', 'Aamir Khan', 'Kareena Kapoor', 'Rajkumar Hirani', '2011' )\");\n",
    "\n",
    "conn.execute(\"INSERT INTO MOVIES (NAME,ACTOR,ACTRESS,DIRECTOR,ReleaseDate) \\\n",
    "      VALUES ('Shershaah', 'Siddharth Malhotra', 'Kiara Advani', 'Vishnuvardhan', '2021' )\");\n",
    "\n",
    "conn.execute(\"INSERT INTO MOVIES (NAME,ACTOR,ACTRESS,DIRECTOR,ReleaseDate) \\\n",
    "      VALUES ('MI2', 'Tom Cruise', 'Thandiwe Newton', 'Ethan Hunt', '2000' )\");\n",
    "\n",
    "conn.execute(\"INSERT INTO MOVIES (NAME,ACTOR,ACTRESS,DIRECTOR,ReleaseDate) \\\n",
    "      VALUES ('Searching', 'John Cho', 'Debra Messing', 'Aneesh Chaganty', '2018' )\");\n",
    "\n",
    "conn.execute(\"INSERT INTO MOVIES (NAME,ACTOR,ACTRESS,DIRECTOR,ReleaseDate) \\\n",
    "      VALUES ('Spectre', 'James Bond', 'Léa Seydoux', '\tSam Mendes', '2015' )\");\n",
    "\n",
    "conn.execute(\"INSERT INTO MOVIES (NAME,ACTOR,ACTRESS,DIRECTOR,ReleaseDate) \\\n",
    "      VALUES ('American Made', 'Tom Cruise', 'Sarah Wright Olsen', 'Doug Liman', '2016' )\");\n",
    "\n",
    "\n",
    "conn.commit()\n",
    "print (\"Records created successfully\");\n",
    "conn.close()"
   ]
  },
  {
   "cell_type": "code",
   "execution_count": 28,
   "metadata": {},
   "outputs": [
    {
     "name": "stdout",
     "output_type": "stream",
     "text": [
      "Opened database successfully\n",
      "NAME =  Gladiator\n",
      "ACTOR =  Russell Crowe\n",
      "ACTRESS =  Oliver Reed\n",
      "DIRECTOR =  Ridley Scott\n",
      "ReleaseDate =  2000\n",
      "\n",
      "\n",
      "NAME =  The Mummy\n",
      "ACTOR =  Tom Cruise\n",
      "ACTRESS =  Annabelle Wallis\n",
      "DIRECTOR =  Alex Kurtzman\n",
      "ReleaseDate =  2017\n",
      "\n",
      "\n",
      "NAME =  3 Idiots\n",
      "ACTOR =  Aamir Khan\n",
      "ACTRESS =  Kareena Kapoor\n",
      "DIRECTOR =  Rajkumar Hirani\n",
      "ReleaseDate =  2011\n",
      "\n",
      "\n",
      "NAME =  Shershaah\n",
      "ACTOR =  Siddharth Malhotra\n",
      "ACTRESS =  Kiara Advani\n",
      "DIRECTOR =  Vishnuvardhan\n",
      "ReleaseDate =  2021\n",
      "\n",
      "\n",
      "NAME =  MI2\n",
      "ACTOR =  Tom Cruise\n",
      "ACTRESS =  Thandiwe Newton\n",
      "DIRECTOR =  Ethan Hunt\n",
      "ReleaseDate =  2000\n",
      "\n",
      "\n",
      "NAME =  Searching\n",
      "ACTOR =  John Cho\n",
      "ACTRESS =  Debra Messing\n",
      "DIRECTOR =  Aneesh Chaganty\n",
      "ReleaseDate =  2018\n",
      "\n",
      "\n",
      "NAME =  Spectre\n",
      "ACTOR =  James Bond\n",
      "ACTRESS =  Léa Seydoux\n",
      "DIRECTOR =  \tSam Mendes\n",
      "ReleaseDate =  2015\n",
      "\n",
      "\n",
      "NAME =  American Made\n",
      "ACTOR =  Tom Cruise\n",
      "ACTRESS =  Sarah Wright Olsen\n",
      "DIRECTOR =  Doug Liman\n",
      "ReleaseDate =  2016\n",
      "\n",
      "\n",
      "Operation done successfully\n"
     ]
    }
   ],
   "source": [
    "# query the movie details (name, actor, actress, director, year of release) using a SELECT statement\n",
    "\n",
    "conn = sqlite3.connect('movies.db')\n",
    "print (\"Opened database successfully\");\n",
    "cursor = conn.execute(\"SELECT NAME,ACTOR,ACTRESS,DIRECTOR,ReleaseDate from MOVIES\")\n",
    "for row in cursor:\n",
    "   print (\"NAME = \", row[0])\n",
    "   print (\"ACTOR = \", row[1])\n",
    "   print (\"ACTRESS = \", row[2])\n",
    "   print (\"DIRECTOR = \", row[3])\n",
    "   print (\"ReleaseDate = \", row[4]) \n",
    "    print(\"\\n\")\n",
    "print (\"Operation done successfully\")\n",
    "conn.close()"
   ]
  },
  {
   "cell_type": "code",
   "execution_count": 41,
   "metadata": {},
   "outputs": [
    {
     "name": "stdout",
     "output_type": "stream",
     "text": [
      "Opened database successfully\n",
      "NAME =  The Mummy\n",
      "ACTOR =  Tom Cruise\n",
      "\n",
      "\n",
      "NAME =  MI2\n",
      "ACTOR =  Tom Cruise\n",
      "\n",
      "\n",
      "NAME =  American Made\n",
      "ACTOR =  Tom Cruise\n",
      "\n",
      "\n",
      "Operation done successfully\n"
     ]
    }
   ],
   "source": [
    "#query with parameter like actor name to select movies based on the actor's name\n",
    "\n",
    "conn = sqlite3.connect('movies.db')\n",
    "print (\"Opened database successfully\");\n",
    "cursor = conn.execute(\"SELECT NAME,ACTOR from MOVIES where ACTOR LIKE '%Tom%' ;\")\n",
    "for row in cursor:\n",
    "   print (\"NAME = \", row[0])\n",
    "   print (\"ACTOR = \", row[1])\n",
    "   print(\"\\n\") \n",
    "print (\"Operation done successfully\")\n",
    "conn.close()"
   ]
  },
  {
   "cell_type": "markdown",
   "metadata": {},
   "source": [
    "## Thanks & Regards Pratik Shukla"
   ]
  },
  {
   "cell_type": "code",
   "execution_count": null,
   "metadata": {},
   "outputs": [],
   "source": []
  }
 ],
 "metadata": {
  "kernelspec": {
   "display_name": "Python 3",
   "language": "python",
   "name": "python3"
  },
  "language_info": {
   "codemirror_mode": {
    "name": "ipython",
    "version": 3
   },
   "file_extension": ".py",
   "mimetype": "text/x-python",
   "name": "python",
   "nbconvert_exporter": "python",
   "pygments_lexer": "ipython3",
   "version": "3.8.5"
  }
 },
 "nbformat": 4,
 "nbformat_minor": 4
}
